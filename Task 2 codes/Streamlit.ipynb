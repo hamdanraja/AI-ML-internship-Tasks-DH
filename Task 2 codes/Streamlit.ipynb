{
  "nbformat": 4,
  "nbformat_minor": 0,
  "metadata": {
    "colab": {
      "provenance": []
    },
    "kernelspec": {
      "name": "python3",
      "display_name": "Python 3"
    },
    "language_info": {
      "name": "python"
    }
  },
  "cells": [
    {
      "cell_type": "code",
      "source": [
        "import streamlit as st\n",
        "from transformers import AutoTokenizer, AutoModelForSequenceClassification, pipeline\n",
        "import torch\n",
        "import pandas as pd\n",
        "\n",
        "# Replace this with the correct path to your model directory in Colab\n",
        "# or the model ID from Hugging Face Hub\n",
        "model_dir = \"C:/Users/DELL/OneDrive/Desktop/bert-agnews\"\n",
        "\n",
        "tokenizer = AutoTokenizer.from_pretrained(model_dir)\n",
        "model = AutoModelForSequenceClassification.from_pretrained(model_dir)\n",
        "device = 0 if torch.cuda.is_available() else -1\n",
        "nlp=pipeline(\"text-classification\", model=model, tokenizer=tokenizer, return_all_scores=True)\n",
        "LABELS = [\"World\", \"Sports\", \"Business\", \"Sci/Tech\"]\n",
        "\n",
        "st.set_page_config(page_title=\"BERT AG News Classifier\", layout=\"centered\")\n",
        "\n",
        "st.title(\"BERT News Topic Classifier\")\n",
        "headline = st.text_area(\"Enter a news headline\", height=100)\n",
        "\n",
        "if st.button(\"Classify\"):\n",
        "    if headline.strip() == \"\":\n",
        "        st.warning(\"Please enter a headline.\")\n",
        "    else:\n",
        "        with st.spinner(\"Classifying...\"):\n",
        "            preds = nlp(headline)[0]\n",
        "            rows = []\n",
        "            for item in preds:\n",
        "                idx = int(item[\"label\"].split(\"_\")[1]) if item[\"label\"].startswith(\"LABEL_\") else int(item[\"label\"])\n",
        "                rows.append({\"label\": LABELS[idx], \"score\": float(item[\"score\"])})\n",
        "            df = pd.DataFrame(rows).sort_values(\"score\", ascending=False)\n",
        "            st.write(\"**Predicted:**\", df.iloc[0][\"label\"])\n",
        "            st.table(df)"
      ],
      "metadata": {
        "id": "Weom8J3AsJCL"
      },
      "execution_count": null,
      "outputs": []
    }
  ]
}